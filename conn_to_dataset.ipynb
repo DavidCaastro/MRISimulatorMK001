{
  "nbformat": 4,
  "nbformat_minor": 0,
  "metadata": {
    "colab": {
      "provenance": [],
      "authorship_tag": "ABX9TyMUHpNSDBzYSVIh/3fIJcSn",
      "include_colab_link": true
    },
    "kernelspec": {
      "name": "python3",
      "display_name": "Python 3"
    },
    "language_info": {
      "name": "python"
    }
  },
  "cells": [
    {
      "cell_type": "markdown",
      "metadata": {
        "id": "view-in-github",
        "colab_type": "text"
      },
      "source": [
        "<a href=\"https://colab.research.google.com/github/DavidCaastro/MRISimulatorMK001/blob/main/conn_to_dataset.ipynb\" target=\"_parent\"><img src=\"https://colab.research.google.com/assets/colab-badge.svg\" alt=\"Open In Colab\"/></a>"
      ]
    },
    {
      "cell_type": "code",
      "source": [
        "!wget http://download.cs.stanford.edu/deep/MRNet-v1.0.zip\n",
        "!unzip MRNet-v1.0.zip\n"
      ],
      "metadata": {
        "colab": {
          "base_uri": "https://localhost:8080/"
        },
        "id": "TApms5w1ckC9",
        "outputId": "608b5dd3-c0c6-49b3-83cf-dea46139c733"
      },
      "execution_count": null,
      "outputs": [
        {
          "output_type": "stream",
          "name": "stdout",
          "text": [
            "--2023-10-12 15:18:29--  http://download.cs.stanford.edu/deep/MRNet-v1.0.zip\n",
            "Resolving download.cs.stanford.edu (download.cs.stanford.edu)... 171.64.64.22\n",
            "Connecting to download.cs.stanford.edu (download.cs.stanford.edu)|171.64.64.22|:80... connected.\n",
            "HTTP request sent, awaiting response... 200 OK\n",
            "Length: 6087523606 (5.7G) [application/zip]\n",
            "Saving to: ‘MRNet-v1.0.zip’\n",
            "\n",
            "MRNet-v1.0.zip       96%[==================> ]   5.45G  5.00MB/s    eta 44s    "
          ]
        }
      ]
    }
  ]
}